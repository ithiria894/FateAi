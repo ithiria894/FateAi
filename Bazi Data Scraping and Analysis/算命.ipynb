{
 "cells": [
  {
   "cell_type": "code",
   "execution_count": 60,
   "id": "62231f8d",
   "metadata": {},
   "outputs": [],
   "source": [
    "from selenium import webdriver\n",
    "import time\n",
    "from selenium.webdriver.support.ui import Select\n",
    "driver = webdriver.Chrome()\n",
    "\n"
   ]
  },
  {
   "cell_type": "code",
   "execution_count": 61,
   "id": "1e3a7a72",
   "metadata": {},
   "outputs": [],
   "source": [
    "from selenium.webdriver.common.by import By"
   ]
  },
  {
   "cell_type": "code",
   "execution_count": 1,
   "id": "3425663d",
   "metadata": {},
   "outputs": [],
   "source": [
    "year=\"1996\"\n",
    "month=\"09\"\n",
    "day=\"17\"\n",
    "hr=\"3\"\n",
    "gender=\"F\""
   ]
  },
  {
   "cell_type": "code",
   "execution_count": 57,
   "id": "0b564d79",
   "metadata": {},
   "outputs": [],
   "source": [
    "driver.get(\"https://fatew.com/star/\")"
   ]
  },
  {
   "cell_type": "code",
   "execution_count": 59,
   "id": "87841e2f",
   "metadata": {},
   "outputs": [
    {
     "name": "stderr",
     "output_type": "stream",
     "text": [
      "<ipython-input-59-eacd436d2553>:17: DeprecationWarning: find_element_by_* commands are deprecated. Please use find_element() instead\n",
      "  driver.find_element_by_css_selector(\"input[type='radio'][value='0']\").click()\n",
      "<ipython-input-59-eacd436d2553>:19: DeprecationWarning: find_element_by_* commands are deprecated. Please use find_element() instead\n",
      "  driver.find_element_by_css_selector(\"input[type='submit'][id='submitb']\").click()\n"
     ]
    }
   ],
   "source": [
    "select = Select(driver.find_element(By.NAME, \"hityear\"))\n",
    "select.select_by_value(year)\n",
    "\n",
    "select = Select(driver.find_element(By.NAME, \"hitmonth\"))\n",
    "select.select_by_value(month)\n",
    "\n",
    "select = Select(driver.find_element(By.NAME, \"hitday\"))\n",
    "select.select_by_value(day)\n",
    "\n",
    "select = Select(driver.find_element(By.NAME, \"hittime\"))\n",
    "# select.select_by_value(hr)\n",
    "select.select_by_visible_text(hr)\n",
    "\n",
    "if gender == \"M\":\n",
    "    driver.find_element_by_css_selector(\"input[type='radio'][value='1']\").click()\n",
    "elif gender ==\"F\":\n",
    "    driver.find_element_by_css_selector(\"input[type='radio'][value='0']\").click()\n",
    "    \n",
    "driver.find_element_by_css_selector(\"input[type='submit'][id='submitb']\").click()"
   ]
  },
  {
   "cell_type": "code",
   "execution_count": 52,
   "id": "b0f333e3",
   "metadata": {},
   "outputs": [],
   "source": [
    "# driver.switch_to.new_window('window')\n",
    "from selenium.webdriver.common.window import WindowTypes\n",
    "\n",
    "driver.switch_to.new_window(WindowTypes.TAB)\n",
    "driver.get(\"https://www.dearmoney.com.tw/eightwords\")"
   ]
  },
  {
   "cell_type": "code",
   "execution_count": 53,
   "id": "caf14859",
   "metadata": {},
   "outputs": [
    {
     "name": "stderr",
     "output_type": "stream",
     "text": [
      "<ipython-input-53-76b7badd7869>:16: DeprecationWarning: find_element_by_* commands are deprecated. Please use find_element() instead\n",
      "  driver.find_element_by_css_selector(\"input[type='radio'][value='F']\").click()\n",
      "<ipython-input-53-76b7badd7869>:18: DeprecationWarning: find_element_by_* commands are deprecated. Please use find_element() instead\n",
      "  driver.find_element_by_css_selector(\"input[type='submit'][id='btnok']\").click()\n"
     ]
    }
   ],
   "source": [
    "select = Select(driver.find_element(By.NAME, \"_Year\"))\n",
    "select.select_by_value(year)\n",
    "\n",
    "select = Select(driver.find_element(By.NAME, \"_Month\"))\n",
    "select.select_by_value(month)\n",
    "\n",
    "select = Select(driver.find_element(By.NAME, \"_Day\"))\n",
    "select.select_by_value(day)\n",
    "\n",
    "select = Select(driver.find_element(By.NAME, \"_Hour\"))\n",
    "select.select_by_value(hr)\n",
    "\n",
    "if gender == \"M\":\n",
    "    driver.find_element_by_css_selector(\"input[type='radio'][value='M']\").click()\n",
    "elif gender ==\"F\":\n",
    "    driver.find_element_by_css_selector(\"input[type='radio'][value='F']\").click()\n",
    "    \n",
    "driver.find_element_by_css_selector(\"input[type='submit'][id='btnok']\").click()"
   ]
  },
  {
   "cell_type": "code",
   "execution_count": null,
   "id": "5274dd71",
   "metadata": {},
   "outputs": [],
   "source": [
    "http://m-mfsm.kvov.com/fx/1996-09-17/mfsmm-5-2.html"
   ]
  },
  {
   "cell_type": "code",
   "execution_count": null,
   "id": "b307b460",
   "metadata": {},
   "outputs": [],
   "source": [
    "https://myfate.herokuapp.com/"
   ]
  }
 ],
 "metadata": {
  "kernelspec": {
   "display_name": "Python 3",
   "language": "python",
   "name": "python3"
  },
  "language_info": {
   "codemirror_mode": {
    "name": "ipython",
    "version": 3
   },
   "file_extension": ".py",
   "mimetype": "text/x-python",
   "name": "python",
   "nbconvert_exporter": "python",
   "pygments_lexer": "ipython3",
   "version": "3.8.8"
  }
 },
 "nbformat": 4,
 "nbformat_minor": 5
}
