{
 "cells": [
  {
   "cell_type": "code",
   "execution_count": 1,
   "id": "7c54da41",
   "metadata": {},
   "outputs": [],
   "source": [
    "from selenium import webdriver\n",
    "\n",
    "\n",
    "driver = webdriver.Chrome()\n",
    "\n",
    "driver.get(\"https://destiny.to/app/eightwords/Old\")"
   ]
  },
  {
   "cell_type": "code",
   "execution_count": 2,
   "id": "9477b78c",
   "metadata": {},
   "outputs": [],
   "source": [
    "from selenium.webdriver.common.by import By"
   ]
  },
  {
   "cell_type": "code",
   "execution_count": null,
   "id": "a1540357",
   "metadata": {},
   "outputs": [],
   "source": [
    "<input type=\"text\" class=\"form-control\" maxlength=\"4\" value=\"2022\" name=\"year\" id=\"id1be\">"
   ]
  },
  {
   "cell_type": "code",
   "execution_count": null,
   "id": "31ca47ec",
   "metadata": {},
   "outputs": [],
   "source": [
    "<select class=\"form-control\" name=\"month\" id=\"id1bf\">\n",
    "<option value=\"1\">1 月</option>\n",
    "<option value=\"2\">2 月</option>\n",
    "<option value=\"3\">3 月</option>\n",
    "<option value=\"4\">4 月</option>\n",
    "<option selected=\"selected\" value=\"5\">5 月</option>\n",
    "<option value=\"6\">6 月</option>\n",
    "<option value=\"7\">7 月</option>\n",
    "<option value=\"8\">8 月</option>\n",
    "<option value=\"9\">9 月</option>\n",
    "<option value=\"10\">10 月</option>\n",
    "<option value=\"11\">11 月</option>\n",
    "<option value=\"12\">12 月</option>\n",
    "</select>"
   ]
  },
  {
   "cell_type": "code",
   "execution_count": null,
   "id": "8d122703",
   "metadata": {},
   "outputs": [],
   "source": [
    "<select class=\"form-control\" name=\"day\" id=\"id1c0\">\n",
    "<option value=\"1\">1 日</option>\n",
    "<option value=\"2\">2 日</option>\n",
    "<option value=\"3\">3 日</option>\n",
    "<option value=\"4\">4 日</option>\n",
    "<option value=\"5\">5 日</option>\n",
    "<option value=\"6\">6 日</option>\n",
    "<option value=\"7\">7 日</option>\n",
    "<option value=\"8\">8 日</option>\n",
    "<option value=\"9\">9 日</option>\n",
    "<option value=\"10\">10 日</option>\n",
    "<option value=\"11\">11 日</option>\n",
    "<option value=\"12\">12 日</option>\n",
    "<option value=\"13\">13 日</option>\n",
    "<option value=\"14\">14 日</option>\n",
    "<option value=\"15\">15 日</option>\n",
    "<option value=\"16\">16 日</option>\n",
    "<option value=\"17\">17 日</option>\n",
    "<option value=\"18\">18 日</option>\n",
    "<option value=\"19\">19 日</option>\n",
    "<option value=\"20\">20 日</option>\n",
    "<option selected=\"selected\" value=\"21\">21 日</option>\n",
    "<option value=\"22\">22 日</option>\n",
    "<option value=\"23\">23 日</option>\n",
    "<option value=\"24\">24 日</option>\n",
    "<option value=\"25\">25 日</option>\n",
    "<option value=\"26\">26 日</option>\n",
    "<option value=\"27\">27 日</option>\n",
    "<option value=\"28\">28 日</option>\n",
    "<option value=\"29\">29 日</option>\n",
    "<option value=\"30\">30 日</option>\n",
    "<option value=\"31\">31 日</option>\n",
    "</select>"
   ]
  },
  {
   "cell_type": "code",
   "execution_count": null,
   "id": "04290b93",
   "metadata": {},
   "outputs": [],
   "source": [
    "<div class=\"col-sm-3\">\n",
    "        \n",
    "          <input type=\"radio\" id=\"id1c3\" name=\"genderGroup\" value=\"radio0\" checked=\"checked\">男\n",
    "          <input type=\"radio\" id=\"id1c4\" name=\"genderGroup\" value=\"radio1\">女\n",
    "        \n",
    "          </div>"
   ]
  },
  {
   "cell_type": "code",
   "execution_count": null,
   "id": "237898e5",
   "metadata": {},
   "outputs": [],
   "source": [
    "<input type=\"submit\" class=\"btn btn-primary\" value=\"開始計算\" name=\"p::submit\" id=\"id10e\">"
   ]
  },
  {
   "cell_type": "code",
   "execution_count": null,
   "id": "d0e02adc",
   "metadata": {},
   "outputs": [],
   "source": [
    "<font style=\"white-space: pre;\" color=\"#000000\">國曆： 111 年    5 月 21 日   子 時生                     性別：          <font style=\"white-space: pre;\" color=\"#0000ff\">女<font style=\"white-space: pre;\" color=\"#000000\"> 性 <br />農曆： 111 年    4 月 21 日   子 時生                     虛歲：         <font style=\"white-space: pre;\" color=\"#0000ff\">  1<font style=\"white-space: pre;\" color=\"#000000\"> 歲 <br />                                                                                <br />八字：     時          日          月          年         大運：  <font style=\"white-space: pre;\" color=\"#0000ff\">6  ~ 15  <font style=\"white-space: pre;\" color=\"#c0c0c0\">甲辰<font style=\"white-space: pre;\" color=\"#000000\"> <br />           柱          柱          柱          柱                 <font style=\"white-space: pre;\" color=\"#0000ff\">16 ~ 25  <font style=\"white-space: pre;\" color=\"#c0c0c0\">癸卯<font style=\"white-space: pre;\" color=\"#000000\"> <br />           ：          ：          ：          ：                 <font style=\"white-space: pre;\" color=\"#0000ff\">26 ~ 35  <font style=\"white-space: pre;\" color=\"#c0c0c0\">壬寅<font style=\"white-space: pre;\" color=\"#000000\"> <br />           <font style=\"white-space: pre;\" color=\"#c0c0c0\">比<font style=\"white-space: pre;\" color=\"#000000\">                      <font style=\"white-space: pre;\" color=\"#c0c0c0\">劫<font style=\"white-space: pre;\" color=\"#000000\">          <font style=\"white-space: pre;\" color=\"#c0c0c0\">偏<font style=\"white-space: pre;\" color=\"#000000\">                 <font style=\"white-space: pre;\" color=\"#0000ff\">36 ~ 45  <font style=\"white-space: pre;\" color=\"#c0c0c0\">辛丑<font style=\"white-space: pre;\" color=\"#000000\"> <br />           <font style=\"white-space: pre;\" color=\"#c0c0c0\">肩<font style=\"white-space: pre;\" color=\"#000000\">                      <font style=\"white-space: pre;\" color=\"#c0c0c0\">財<font style=\"white-space: pre;\" color=\"#000000\">          <font style=\"white-space: pre;\" color=\"#c0c0c0\">印<font style=\"white-space: pre;\" color=\"#000000\">                 <font style=\"white-space: pre;\" color=\"#0000ff\">46 ~ 55  <font style=\"white-space: pre;\" color=\"#c0c0c0\">庚子<font style=\"white-space: pre;\" color=\"#000000\"> <br />           <font style=\"white-space: pre;\" color=\"#cc0000\">甲<font style=\"white-space: pre;\" color=\"#000000\">          <font style=\"white-space: pre;\" color=\"#cc0000\">甲<font style=\"white-space: pre;\" color=\"#000000\">          <font style=\"white-space: pre;\" color=\"#cc0000\">乙<font style=\"white-space: pre;\" color=\"#000000\">          <font style=\"white-space: pre;\" color=\"#cc0000\">壬<font style=\"white-space: pre;\" color=\"#000000\">                 <font style=\"white-space: pre;\" color=\"#0000ff\">56 ~ 65  <font style=\"white-space: pre;\" color=\"#c0c0c0\">己亥<font style=\"white-space: pre;\" color=\"#000000\"> <br />           <font style=\"white-space: pre;\" color=\"#cc0000\">子<font style=\"white-space: pre;\" color=\"#000000\">          <font style=\"white-space: pre;\" color=\"#cc0000\">戌<font style=\"white-space: pre;\" color=\"#000000\">          <font style=\"white-space: pre;\" color=\"#cc0000\">巳<font style=\"white-space: pre;\" color=\"#000000\">          <font style=\"white-space: pre;\" color=\"#cc0000\">寅<font style=\"white-space: pre;\" color=\"#000000\">                 <font style=\"white-space: pre;\" color=\"#0000ff\">66 ~ 75  <font style=\"white-space: pre;\" color=\"#c0c0c0\">戊戌<font style=\"white-space: pre;\" color=\"#000000\"> <br />             <font style=\"white-space: pre;\" color=\"#c0c0c0\">癸<font style=\"white-space: pre;\" color=\"#000000\">      <font style=\"white-space: pre;\" color=\"#c0c0c0\">丁辛戊<font style=\"white-space: pre;\" color=\"#000000\">      <font style=\"white-space: pre;\" color=\"#c0c0c0\">庚戊丙<font style=\"white-space: pre;\" color=\"#000000\">      <font style=\"white-space: pre;\" color=\"#c0c0c0\">戊丙甲<font style=\"white-space: pre;\" color=\"#000000\">               <font style=\"white-space: pre;\" color=\"#0000ff\">76 ~ 85  <font style=\"white-space: pre;\" color=\"#c0c0c0\">丁酉<font style=\"white-space: pre;\" color=\"#000000\"> <br />             <font style=\"white-space: pre;\" color=\"#c0c0c0\">正<font style=\"white-space: pre;\" color=\"#000000\">      <font style=\"white-space: pre;\" color=\"#c0c0c0\">傷正偏<font style=\"white-space: pre;\" color=\"#000000\">      <font style=\"white-space: pre;\" color=\"#c0c0c0\">七偏食<font style=\"white-space: pre;\" color=\"#000000\">      <font style=\"white-space: pre;\" color=\"#c0c0c0\">偏食比<font style=\"white-space: pre;\" color=\"#000000\">               <font style=\"white-space: pre;\" color=\"#0000ff\">86 ~ 95  <font style=\"white-space: pre;\" color=\"#c0c0c0\">丙申<font style=\"white-space: pre;\" color=\"#000000\"> <br />             <font style=\"white-space: pre;\" color=\"#c0c0c0\">印<font style=\"white-space: pre;\" color=\"#000000\">      <font style=\"white-space: pre;\" color=\"#c0c0c0\">官官財<font style=\"white-space: pre;\" color=\"#000000\">      <font style=\"white-space: pre;\" color=\"#c0c0c0\">殺財神<font style=\"white-space: pre;\" color=\"#000000\">      <font style=\"white-space: pre;\" color=\"#c0c0c0\">財神肩<font style=\"white-space: pre;\" color=\"#000000\">                             <br />                                                                                <br />大運：     <font style=\"white-space: pre;\" color=\"#0000ff\">86<font style=\"white-space: pre;\" color=\"#000000\">      <font style=\"white-space: pre;\" color=\"#0000ff\">76<font style=\"white-space: pre;\" color=\"#000000\">      <font style=\"white-space: pre;\" color=\"#0000ff\">66<font style=\"white-space: pre;\" color=\"#000000\">      <font style=\"white-space: pre;\" color=\"#0000ff\">56<font style=\"white-space: pre;\" color=\"#000000\">      <font style=\"white-space: pre;\" color=\"#0000ff\">46<font style=\"white-space: pre;\" color=\"#000000\">      <font style=\"white-space: pre;\" color=\"#0000ff\">36<font style=\"white-space: pre;\" color=\"#000000\">      <font style=\"white-space: pre;\" color=\"#0000ff\">26<font style=\"white-space: pre;\" color=\"#000000\">      <font style=\"white-space: pre;\" color=\"#0000ff\">16<font style=\"white-space: pre;\" color=\"#000000\">      <font style=\"white-space: pre;\" color=\"#0000ff\"> 6<font style=\"white-space: pre;\" color=\"#000000\">   <br /><font style=\"white-space: pre;\" color=\"#c0c0c0\">           食      傷      偏      正      七      正      偏      正      比   <br />           神      官      財      財      殺      官      印      印      肩   <br />           <font style=\"white-space: pre;\" color=\"#cc0000\">丙<font style=\"white-space: pre;\" color=\"#c0c0c0\">      <font style=\"white-space: pre;\" color=\"#cc0000\">丁<font style=\"white-space: pre;\" color=\"#c0c0c0\">      <font style=\"white-space: pre;\" color=\"#cc0000\">戊<font style=\"white-space: pre;\" color=\"#c0c0c0\">      <font style=\"white-space: pre;\" color=\"#cc0000\">己<font style=\"white-space: pre;\" color=\"#c0c0c0\">      <font style=\"white-space: pre;\" color=\"#cc0000\">庚<font style=\"white-space: pre;\" color=\"#c0c0c0\">      <font style=\"white-space: pre;\" color=\"#cc0000\">辛<font style=\"white-space: pre;\" color=\"#c0c0c0\">      <font style=\"white-space: pre;\" color=\"#cc0000\">壬<font style=\"white-space: pre;\" color=\"#c0c0c0\">      <font style=\"white-space: pre;\" color=\"#cc0000\">癸<font style=\"white-space: pre;\" color=\"#c0c0c0\">      <font style=\"white-space: pre;\" color=\"#cc0000\">甲<font style=\"white-space: pre;\" color=\"#c0c0c0\">   <br />           <font style=\"white-space: pre;\" color=\"#cc0000\">申<font style=\"white-space: pre;\" color=\"#c0c0c0\">      <font style=\"white-space: pre;\" color=\"#cc0000\">酉<font style=\"white-space: pre;\" color=\"#c0c0c0\">      <font style=\"white-space: pre;\" color=\"#cc0000\">戌<font style=\"white-space: pre;\" color=\"#c0c0c0\">      <font style=\"white-space: pre;\" color=\"#cc0000\">亥<font style=\"white-space: pre;\" color=\"#c0c0c0\">      <font style=\"white-space: pre;\" color=\"#cc0000\">子<font style=\"white-space: pre;\" color=\"#c0c0c0\">      <font style=\"white-space: pre;\" color=\"#cc0000\">丑<font style=\"white-space: pre;\" color=\"#c0c0c0\">      <font style=\"white-space: pre;\" color=\"#cc0000\">寅<font style=\"white-space: pre;\" color=\"#c0c0c0\">      <font style=\"white-space: pre;\" color=\"#cc0000\">卯<font style=\"white-space: pre;\" color=\"#c0c0c0\">      <font style=\"white-space: pre;\" color=\"#cc0000\">辰<font style=\"white-space: pre;\" color=\"#c0c0c0\">   <br />         戊壬庚      辛  丁辛戊    甲壬      癸  辛癸己  戊丙甲      乙  癸乙戊 <br />         偏偏七      正  傷正偏    比偏      正  正正正  偏食比      劫  正劫偏 <br />         財印殺      官  官官財    肩印      印  官印財  財神肩      財  印財財 <br /></font></font></font></font></font></font></font></font></font></font></font></font></font></font></font></font></font></font></font></font></font></font></font></font></font></font></font></font></font></font></font></font></font></font></font></font></font></font></font></font></font></font></font></font></font></font></font></font></font></font></font></font></font></font></font></font></font></font></font></font></font></font></font></font></font></font></font></font></font></font></font></font></font></font></font></font></font></font></font></font></font></font></font></font></font></font></font></font></font></font></font></font></font></font></font></font></font></font></font></font></font></font></font></font></font></font></font></font></font></font></font></font></font></font></font></font></font></font></font></font></font></font></font></font></font></font></font></font></font></font></font></font></font></font></font></font></font></font></font>"
   ]
  }
 ],
 "metadata": {
  "kernelspec": {
   "display_name": "Python 3",
   "language": "python",
   "name": "python3"
  },
  "language_info": {
   "codemirror_mode": {
    "name": "ipython",
    "version": 3
   },
   "file_extension": ".py",
   "mimetype": "text/x-python",
   "name": "python",
   "nbconvert_exporter": "python",
   "pygments_lexer": "ipython3",
   "version": "3.8.8"
  }
 },
 "nbformat": 4,
 "nbformat_minor": 5
}
