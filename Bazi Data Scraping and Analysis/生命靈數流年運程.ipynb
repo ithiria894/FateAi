{
 "cells": [
  {
   "cell_type": "code",
   "execution_count": 8,
   "id": "c4247858",
   "metadata": {},
   "outputs": [],
   "source": [
    "years=['2021','2022','2023','2024','2025','2026','2027','2028','2029','2030','2031']"
   ]
  },
  {
   "cell_type": "code",
   "execution_count": 9,
   "id": "a31e1572",
   "metadata": {},
   "outputs": [],
   "source": [
    "import math"
   ]
  },
  {
   "cell_type": "code",
   "execution_count": 10,
   "id": "137e91e4",
   "metadata": {},
   "outputs": [],
   "source": [
    "month='12'\n",
    "day='8'"
   ]
  },
  {
   "cell_type": "code",
   "execution_count": 11,
   "id": "e668d3a1",
   "metadata": {},
   "outputs": [],
   "source": [
    "target=years[0]+month+day"
   ]
  },
  {
   "cell_type": "code",
   "execution_count": 12,
   "id": "5210aeb6",
   "metadata": {},
   "outputs": [],
   "source": [
    "t=int(target)"
   ]
  },
  {
   "cell_type": "code",
   "execution_count": 13,
   "id": "109cac69",
   "metadata": {},
   "outputs": [],
   "source": [
    "def sumup(n):\n",
    "    s=0\n",
    "    for x in str(n):\n",
    "        s=s+int(x)\n",
    "    return s"
   ]
  },
  {
   "cell_type": "code",
   "execution_count": 14,
   "id": "b31c099a",
   "metadata": {},
   "outputs": [
    {
     "data": {
      "text/plain": [
       "7"
      ]
     },
     "execution_count": 14,
     "metadata": {},
     "output_type": "execute_result"
    }
   ],
   "source": [
    "def reduce_until(x):\n",
    "    while x>9:\n",
    "        x = sumup(x)\n",
    "    return x\n",
    "\n",
    "reduce_until(t)"
   ]
  },
  {
   "cell_type": "code",
   "execution_count": 17,
   "id": "514bb579",
   "metadata": {},
   "outputs": [
    {
     "name": "stdout",
     "output_type": "stream",
     "text": [
      "2021 7比較追求靈性上的開悟, 想多了關於哲學等議題, 容易有思想鬥爭\n",
      "2022 8適合專注在某一件事情上面, 財運較好\n",
      "2023 9階段性的結束, 收割的年份, 有機會轉換工作, 或回顧以往的一切, 適合斷捨離\n",
      "2024 1有新的際遇,新開始,新想法,新的項目,搬新家,新工作等等,適合開展新興趣,創業等\n",
      "2025 2重點在於合作關係, 互補不足, 適合多找人商量, 需要助手或夥伴的幫忙,能有好的合作關係\n",
      "2026 3能遇到貴人或伯樂, 能指引你的導師或上司\n",
      "2027 4四平八穩, 適合打好基礎,鞏固你的知識,物質, 應注重實際層面的事物\n",
      "2028 5比較辛勞, 很多事情要忙, 思想會有很多轉變, 轉換工作,智慧上會有所提升\n",
      "2029 6注重社交影響的一年, 會出現一些能慰藉心靈的人事物, 人緣桃花運也會較好\n",
      "2030 7比較追求靈性上的開悟, 想多了關於哲學等議題, 容易有思想鬥爭\n",
      "2031 8適合專注在某一件事情上面, 財運較好\n"
     ]
    }
   ],
   "source": [
    "for year in years:\n",
    "    target=year+month+day\n",
    "    t=int(target)\n",
    "    tnum=reduce_until(t)\n",
    "    print(year + ' '+ str(tnum) + sentence[str(tnum)])"
   ]
  },
  {
   "cell_type": "code",
   "execution_count": 16,
   "id": "2a7659b0",
   "metadata": {},
   "outputs": [],
   "source": [
    "sentence={\n",
    "    '1':'有新的際遇,新開始,新想法,新的項目,搬新家,新工作等等,適合開展新興趣,創業等',\n",
    "    '2':'重點在於合作關係, 互補不足, 適合多找人商量, 需要助手或夥伴的幫忙,能有好的合作關係',\n",
    "    '3':'能遇到貴人或伯樂, 能指引你的導師或上司',\n",
    "    '4':'四平八穩, 適合打好基礎,鞏固你的知識,物質, 應注重實際層面的事物',\n",
    "    '5':'比較辛勞, 很多事情要忙, 思想會有很多轉變, 轉換工作,智慧上會有所提升',\n",
    "    '6':'注重社交影響的一年, 會出現一些能慰藉心靈的人事物, 人緣桃花運也會較好',\n",
    "    '7':'比較追求靈性上的開悟, 想多了關於哲學等議題, 容易有思想鬥爭',\n",
    "    '8':'適合專注在某一件事情上面, 財運較好',\n",
    "    '9':'階段性的結束, 收割的年份, 有機會轉換工作, 或回顧以往的一切, 適合斷捨離'\n",
    "}"
   ]
  },
  {
   "cell_type": "code",
   "execution_count": 196,
   "id": "b281c8c5",
   "metadata": {},
   "outputs": [
    {
     "data": {
      "text/plain": [
       "'有新的際遇,新開始,新想法,新的項目,搬新家,新工作等等,適合開展新興趣,創業等'"
      ]
     },
     "execution_count": 196,
     "metadata": {},
     "output_type": "execute_result"
    }
   ],
   "source": [
    "sentence['1']"
   ]
  }
 ],
 "metadata": {
  "kernelspec": {
   "display_name": "Python 3",
   "language": "python",
   "name": "python3"
  },
  "language_info": {
   "codemirror_mode": {
    "name": "ipython",
    "version": 3
   },
   "file_extension": ".py",
   "mimetype": "text/x-python",
   "name": "python",
   "nbconvert_exporter": "python",
   "pygments_lexer": "ipython3",
   "version": "3.8.8"
  }
 },
 "nbformat": 4,
 "nbformat_minor": 5
}
