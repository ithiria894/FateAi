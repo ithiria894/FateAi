{
 "cells": [
  {
   "cell_type": "code",
   "execution_count": 1,
   "id": "229beb96",
   "metadata": {},
   "outputs": [],
   "source": [
    "from selenium import webdriver\n",
    "import time\n",
    "from selenium.webdriver.support.ui import Select\n",
    "driver = webdriver.Chrome()\n",
    "\n",
    "from selenium.webdriver.common.by import By"
   ]
  },
  {
   "cell_type": "code",
   "execution_count": null,
   "id": "19761e79",
   "metadata": {},
   "outputs": [],
   "source": [
    "tenGod=[][10]\n",
    "#  正官\n",
    "# ▪ 偏官\n",
    "# ▪ 正印\n",
    "# ▪ \n",
    "# ▪ 正財偏印\n",
    "# ▪ 偏財\n",
    "# ▪ 比肩\n",
    "# ▪ 劫財\n",
    "# ▪ 食神\n",
    "# ▪ 傷官"
   ]
  },
  {
   "cell_type": "code",
   "execution_count": null,
   "id": "451bb4a8",
   "metadata": {},
   "outputs": [],
   "source": [
    "def count3he6he():\n",
    "    "
   ]
  },
  {
   "cell_type": "code",
   "execution_count": 35,
   "id": "e681de2c",
   "metadata": {},
   "outputs": [],
   "source": [
    "def Count10God(gods):\n",
    "    countGod=[0]*10\n",
    "    for god in gods:\n",
    "#         print(god)\n",
    "        if god == \"正官\":\n",
    "            countGod[0]+=1\n",
    "        if god == \"偏官\" or god ==\"七殺\":\n",
    "            countGod[1]=countGod[1]+1\n",
    "#             print(countGod[1])\n",
    "        if god == \"正印\":\n",
    "            countGod[2]+=1\n",
    "        if god == \"偏印\":\n",
    "            countGod[3]+=1\n",
    "        if god == \"正財\":\n",
    "            countGod[4]+=1\n",
    "        if god == \"偏財\":\n",
    "            countGod[5]+=1\n",
    "        if god == \"比肩\":\n",
    "            countGod[6]+=1\n",
    "        if god == \"劫財\":\n",
    "            countGod[7]+=1\n",
    "        if god == \"食神\":\n",
    "            countGod[8]+=1\n",
    "        if god == \"傷官\": \n",
    "            countGod[9]+=1\n",
    "    return countGod"
   ]
  },
  {
   "cell_type": "code",
   "execution_count": 5,
   "id": "ceab2be7",
   "metadata": {},
   "outputs": [],
   "source": [
    "year=\"1981\"\n",
    "month=\"1\"\n",
    "day=\"31\"\n",
    "hr=\"1\"\n",
    "gender=\"Male\"\n",
    "# ['Justin Timberlake' 'Male' '1981' 'Jan' '31' '1984']"
   ]
  },
  {
   "cell_type": "code",
   "execution_count": 37,
   "id": "efe1eb6b",
   "metadata": {},
   "outputs": [],
   "source": [
    "from textwrap import wrap\n",
    "def get10god():\n",
    "#     <font color=\"#336699\">比肩</font>\n",
    "    return10god=driver.find_elements_by_xpath(\"//font[@color='#336699']\")\n",
    "    gods=\"\"\n",
    "    for i in return10god:\n",
    "        gods=gods+i.text\n",
    "        \n",
    "    gods=gods.replace(\"\\n\", \"\")\n",
    "    g=gods[:16]\n",
    "    \n",
    "    g=wrap(g, 2)\n",
    "# ['12', '34', '56', '78', '90']\n",
    "#     gods=list(gods.strip())\n",
    "    return Count10God(g)"
   ]
  },
  {
   "cell_type": "code",
   "execution_count": 38,
   "id": "72033be5",
   "metadata": {},
   "outputs": [
    {
     "name": "stdout",
     "output_type": "stream",
     "text": [
      "七殺\n",
      "比肩\n",
      "日主\n",
      "食神\n",
      "比肩\n",
      "比肩\n",
      "傷官\n",
      "傷官\n",
      "[0, 1, 0, 0, 0, 0, 3, 0, 1, 2]\n"
     ]
    },
    {
     "name": "stderr",
     "output_type": "stream",
     "text": [
      "<ipython-input-37-553e123c0070>:4: DeprecationWarning: find_elements_by_* commands are deprecated. Please use find_elements() instead\n",
      "  return10god=driver.find_elements_by_xpath(\"//font[@color='#336699']\")\n"
     ]
    }
   ],
   "source": [
    "print(get10god())"
   ]
  },
  {
   "cell_type": "code",
   "execution_count": 36,
   "id": "15f8ad6d",
   "metadata": {},
   "outputs": [
    {
     "name": "stdout",
     "output_type": "stream",
     "text": [
      "七殺\n",
      "比肩\n",
      "日主\n",
      "食神\n",
      "比肩\n",
      "比肩\n",
      "傷官\n",
      "傷官\n",
      "[0, 1, 0, 0, 0, 0, 3, 0, 1, 2]\n"
     ]
    },
    {
     "name": "stderr",
     "output_type": "stream",
     "text": [
      "<ipython-input-7-d6adb59ea894>:4: DeprecationWarning: find_elements_by_* commands are deprecated. Please use find_elements() instead\n",
      "  return10god=driver.find_elements_by_xpath(\"//font[@color='#336699']\")\n"
     ]
    }
   ],
   "source": [
    "print(Count10God(get10god()))"
   ]
  },
  {
   "cell_type": "code",
   "execution_count": 219,
   "id": "6faa5685",
   "metadata": {},
   "outputs": [],
   "source": [
    "def getBAZI(year,month,day,hr,gender):\n",
    "    driver.get(\"https://fatew.com/\")\n",
    "    select = Select(driver.find_element(By.NAME, \"hityear\"))\n",
    "    select.select_by_value(year)\n",
    "\n",
    "    select = Select(driver.find_element(By.NAME, \"hitmonth\"))\n",
    "    select.select_by_visible_text(month)\n",
    "\n",
    "    select = Select(driver.find_element(By.NAME, \"hitday\"))\n",
    "    select.select_by_visible_text(day)\n",
    "\n",
    "    select = Select(driver.find_element(By.NAME, \"hittime\"))\n",
    "    # select.select_by_value(hr)\n",
    "    select.select_by_visible_text(hr)\n",
    "\n",
    "    if gender == \"Male\":\n",
    "        driver.find_element_by_css_selector(\"input[type='radio'][value='1']\").click()\n",
    "    elif gender ==\"Female\":\n",
    "        driver.find_element_by_css_selector(\"input[type='radio'][value='0']\").click()\n",
    "\n",
    "    driver.find_element_by_css_selector(\"input[type='submit'][id='submitb']\").click()\n",
    "    \n",
    "    returnv=driver.find_elements_by_xpath(\"//font[@size = '6' and @face='標楷體']\")\n",
    "    \n",
    "    baz=\"\"\n",
    "    for i in returnv:\n",
    "        baz=baz+i.text\n",
    "        \n",
    "    baz=baz.replace(\"\\n\", \"\")\n",
    "    b=baz[0:4]+baz[5:]\n",
    "    bazi=list(b.strip())\n",
    "    return bazi\n"
   ]
  },
  {
   "cell_type": "code",
   "execution_count": 6,
   "id": "95dc07c0",
   "metadata": {},
   "outputs": [
    {
     "name": "stderr",
     "output_type": "stream",
     "text": [
      "<ipython-input-6-8e1b64a0f893>:16: DeprecationWarning: find_element_by_* commands are deprecated. Please use find_element() instead\n",
      "  driver.find_element_by_css_selector(\"input[type='radio'][value='1']\").click()\n",
      "<ipython-input-6-8e1b64a0f893>:20: DeprecationWarning: find_element_by_* commands are deprecated. Please use find_element() instead\n",
      "  driver.find_element_by_css_selector(\"input[type='submit'][id='submitb']\").click()\n"
     ]
    },
    {
     "name": "stdout",
     "output_type": "stream",
     "text": [
      "['乙', '丑', '己', '酉', '己', '丑', '庚', '申']\n"
     ]
    },
    {
     "name": "stderr",
     "output_type": "stream",
     "text": [
      "<ipython-input-6-8e1b64a0f893>:22: DeprecationWarning: find_elements_by_* commands are deprecated. Please use find_elements() instead\n",
      "  returnv=driver.find_elements_by_xpath(\"//font[@size = '6' and @face='標楷體']\")\n"
     ]
    }
   ],
   "source": [
    "driver.get(\"https://fatew.com/\")\n",
    "select = Select(driver.find_element(By.NAME, \"hityear\"))\n",
    "select.select_by_value(year)\n",
    "\n",
    "select = Select(driver.find_element(By.NAME, \"hitmonth\"))\n",
    "select.select_by_visible_text(month)\n",
    "\n",
    "select = Select(driver.find_element(By.NAME, \"hitday\"))\n",
    "select.select_by_visible_text(day)\n",
    "\n",
    "select = Select(driver.find_element(By.NAME, \"hittime\"))\n",
    "# select.select_by_value(hr)\n",
    "select.select_by_visible_text(hr)\n",
    "\n",
    "if gender == \"Male\":\n",
    "    driver.find_element_by_css_selector(\"input[type='radio'][value='1']\").click()\n",
    "elif gender ==\"Female\":\n",
    "    driver.find_element_by_css_selector(\"input[type='radio'][value='0']\").click()\n",
    "\n",
    "driver.find_element_by_css_selector(\"input[type='submit'][id='submitb']\").click()\n",
    "\n",
    "returnv=driver.find_elements_by_xpath(\"//font[@size = '6' and @face='標楷體']\")\n",
    "\n",
    "baz=\"\"\n",
    "for i in returnv:\n",
    "    baz=baz+i.text\n",
    "\n",
    "baz=baz.replace(\"\\n\", \"\")\n",
    "b=baz[0:4]+baz[5:]\n",
    "bazi=list(b.strip())\n",
    "print(bazi)\n"
   ]
  },
  {
   "cell_type": "code",
   "execution_count": 29,
   "id": "a3eed381",
   "metadata": {},
   "outputs": [
    {
     "name": "stdout",
     "output_type": "stream",
     "text": [
      "1. Kanye West (Male, b. June 8, 1977, Father died in 1977)\n",
      "\n"
     ]
    }
   ],
   "source": [
    "a=[]\n",
    "with open(\"bazidata.txt\",\"r\") as r:\n",
    "    a=r.readlines()\n",
    "print(a[0])"
   ]
  },
  {
   "cell_type": "code",
   "execution_count": null,
   "id": "4207eb04",
   "metadata": {},
   "outputs": [],
   "source": [
    "import calendar\n",
    "abbr_to_num = {name: num for num, name in enumerate(calendar.month_abbr) if num}\n",
    "abbr_to_num[month]"
   ]
  },
  {
   "cell_type": "code",
   "execution_count": null,
   "id": "d8177348",
   "metadata": {},
   "outputs": [],
   "source": [
    "month=bd[0:3]\n",
    "month\n",
    "\n",
    "start = bd.find(' ')\n",
    "end =bd.find(',')\n",
    "day=bd[start+1:end]\n",
    "\n",
    "start = bd.find(', ')\n",
    "yr=bd[start+2:]\n",
    "yr"
   ]
  },
  {
   "cell_type": "code",
   "execution_count": 128,
   "id": "6ad9c7bc",
   "metadata": {},
   "outputs": [],
   "source": [
    "data=[]"
   ]
  },
  {
   "cell_type": "code",
   "execution_count": 129,
   "id": "5f241e56",
   "metadata": {},
   "outputs": [],
   "source": [
    "for i,line in enumerate(a):\n",
    "    sdf=[]\n",
    "    start = line.find('. ')\n",
    "    end = line.find(' (')\n",
    "    n=line[start+2:end]\n",
    "    sdf.append(n)\n",
    "    \n",
    "    start = line.find('(')\n",
    "    end =line.find(',')\n",
    "    gender=line[start+1:end]\n",
    "    sdf.append(gender)\n",
    "    \n",
    "    start =line.find(', b. ')\n",
    "    end =line.find(', Father')\n",
    "    bd=line[start+5:end]\n",
    "\n",
    "    start = bd.find(', ')\n",
    "    yr=bd[start+2:]\n",
    "    sdf.append(yr)\n",
    "        \n",
    "    month=bd[0:3]\n",
    "    sdf.append(month)\n",
    "    \n",
    "    start = bd.find(' ')\n",
    "    end =bd.find(',')\n",
    "    day=bd[start+1:end]\n",
    "    sdf.append(day)\n",
    "    \n",
    "    start = line.find('Father died in ')\n",
    "    end =line.find(')')\n",
    "    fdy=line[start+15:end]\n",
    "    sdf.append(fdy)\n",
    "    \n",
    "    data.append(sdf)\n",
    "    "
   ]
  },
  {
   "cell_type": "code",
   "execution_count": 185,
   "id": "966cbdfb",
   "metadata": {
    "scrolled": true
   },
   "outputs": [
    {
     "data": {
      "text/plain": [
       "array([['Kanye West', 'Male', '1977', 'Jun', '8', '1977'],\n",
       "       ['Miley Cyrus', 'Female', '1992', 'Nov', '23', '1996'],\n",
       "       ['Justin Timberlake', 'Male', '1981', 'Jan', '31', '1984'],\n",
       "       ['Angelina Jolie', 'Female', '1975', 'Jun', '4', '1978'],\n",
       "       ['Jennifer Aniston', 'Female', '1969', 'Feb', '11', '1996'],\n",
       "       ['Britney Spears', 'Female', '1981', 'Dec', '2', '1988'],\n",
       "       ['Taylor Swift', 'Female', '1989', 'Dec', '13', '1992'],\n",
       "       ['Rihanna', 'Female', '1988', 'Feb', '20', '2003'],\n",
       "       ['Beyonce', 'Female', '1981', 'Sep', '4', '2002'],\n",
       "       ['Emma Watson', 'Female', '1990', 'Apr', '15', '2004'],\n",
       "       ['Leonardo DiCaprio', 'Male', '1974', 'Nov', '11', '1993'],\n",
       "       ['Will Smith', 'Male', '1968', 'Sep', '25', '1996'],\n",
       "       ['Alicia Keys', 'Female', '1981', 'Jan', '25', '2002'],\n",
       "       ['Brad Pitt', 'Male', '1963', 'Dec', '18', '1967'],\n",
       "       ['Mark Wahlberg', 'Male', '1971', 'Jun', '5', '1982'],\n",
       "       ['Selena Gomez', 'Female', '1992', 'Jul', '22', '1998'],\n",
       "       ['John Legend', 'Male', '1978', 'Dec', '28', '1998'],\n",
       "       ['Jim Carrey', 'Male', '1962', 'Jan', '17', '1994'],\n",
       "       ['Jennifer Lopez', 'Female', '1969', 'Jul', '24', '1986'],\n",
       "       ['Denzel Washington', 'Male', '1954', 'Dec', '28', '1991']],\n",
       "      dtype='<U17')"
      ]
     },
     "execution_count": 185,
     "metadata": {},
     "output_type": "execute_result"
    }
   ],
   "source": [
    "data"
   ]
  },
  {
   "cell_type": "code",
   "execution_count": 131,
   "id": "54bd1bf2",
   "metadata": {},
   "outputs": [],
   "source": [
    "import numpy as np\n",
    "data=np.array(data)"
   ]
  },
  {
   "cell_type": "code",
   "execution_count": 201,
   "id": "906d09ca",
   "metadata": {},
   "outputs": [],
   "source": [
    "Allbazi=[]"
   ]
  },
  {
   "cell_type": "code",
   "execution_count": 213,
   "id": "56a6b5a4",
   "metadata": {
    "scrolled": true
   },
   "outputs": [
    {
     "name": "stdout",
     "output_type": "stream",
     "text": [
      "6\n",
      "8\n"
     ]
    },
    {
     "name": "stderr",
     "output_type": "stream",
     "text": [
      "<ipython-input-212-e5426efb9743>:17: DeprecationWarning: find_element_by_* commands are deprecated. Please use find_element() instead\n",
      "  driver.find_element_by_css_selector(\"input[type='radio'][value='1']\").click()\n",
      "<ipython-input-212-e5426efb9743>:21: DeprecationWarning: find_element_by_* commands are deprecated. Please use find_element() instead\n",
      "  driver.find_element_by_css_selector(\"input[type='submit'][id='submitb']\").click()\n",
      "<ipython-input-212-e5426efb9743>:23: DeprecationWarning: find_elements_by_* commands are deprecated. Please use find_elements() instead\n",
      "  returnv=driver.find_elements_by_xpath(\"//font[@size = '6' and @face='標楷體']\")\n"
     ]
    },
    {
     "name": "stdout",
     "output_type": "stream",
     "text": [
      "['Kanye West' 'Male' '1977' 'Jun' '8' '1977']\n",
      "['己', '丑', '丙', '申', '丙', '午', '丁', '巳']\n",
      "11\n",
      "23\n"
     ]
    },
    {
     "name": "stderr",
     "output_type": "stream",
     "text": [
      "<ipython-input-212-e5426efb9743>:19: DeprecationWarning: find_element_by_* commands are deprecated. Please use find_element() instead\n",
      "  driver.find_element_by_css_selector(\"input[type='radio'][value='0']\").click()\n"
     ]
    },
    {
     "name": "stdout",
     "output_type": "stream",
     "text": [
      "['Miley Cyrus' 'Female' '1992' 'Nov' '23' '1996']\n",
      "['癸', '丑', '癸', '卯', '辛', '亥', '壬', '申']\n",
      "1\n",
      "31\n",
      "['Justin Timberlake' 'Male' '1981' 'Jan' '31' '1984']\n",
      "[]\n",
      "6\n",
      "4\n",
      "['Angelina Jolie' 'Female' '1975' 'Jun' '4' '1978']\n",
      "['己', '丑', '辛', '巳', '辛', '巳', '乙', '卯']\n",
      "2\n",
      "11\n",
      "['Jennifer Aniston' 'Female' '1969' 'Feb' '11' '1996']\n",
      "['辛', '丑', '丁', '巳', '丙', '寅', '己', '酉']\n",
      "12\n",
      "2\n",
      "['Britney Spears' 'Female' '1981' 'Dec' '2' '1988']\n",
      "['乙', '丑', '甲', '寅', '己', '亥', '辛', '酉']\n",
      "12\n",
      "13\n",
      "['Taylor Swift' 'Female' '1989' 'Dec' '13' '1992']\n",
      "['辛', '丑', '丁', '未', '丙', '子', '己', '巳']\n",
      "2\n",
      "20\n",
      "['Rihanna' 'Female' '1988' 'Feb' '20' '2003']\n",
      "['丁', '丑', '乙', '巳', '甲', '寅', '戊', '辰']\n",
      "9\n",
      "4\n",
      "['Beyonce' 'Female' '1981' 'Sep' '4' '2002']\n",
      "['丁', '丑', '乙', '酉', '丙', '申', '辛', '酉']\n",
      "4\n",
      "15\n",
      "['Emma Watson' 'Female' '1990' 'Apr' '15' '2004']\n",
      "['丁', '丑', '庚', '戌', '庚', '辰', '庚', '午']\n",
      "11\n",
      "11\n",
      "['Leonardo DiCaprio' 'Male' '1974' 'Nov' '11' '1993']\n",
      "['己', '丑', '丙', '辰', '乙', '亥', '甲', '寅']\n",
      "9\n",
      "25\n",
      "['Will Smith' 'Male' '1968' 'Sep' '25' '1996']\n",
      "['癸', '丑', '戊', '戌', '辛', '酉', '戊', '申']\n",
      "1\n",
      "25\n",
      "['Alicia Keys' 'Female' '1981' 'Jan' '25' '2002']\n",
      "['癸', '丑', '癸', '卯', '己', '丑', '庚', '申']\n",
      "12\n",
      "18\n",
      "['Brad Pitt' 'Male' '1963' 'Dec' '18' '1967']\n",
      "['丁', '丑', '乙', '未', '甲', '子', '癸', '卯']\n",
      "6\n",
      "5\n",
      "['Mark Wahlberg' 'Male' '1971' 'Jun' '5' '1982']\n",
      "['己', '丑', '辛', '酉', '癸', '巳', '辛', '亥']\n",
      "7\n",
      "22\n",
      "['Selena Gomez' 'Female' '1992' 'Jul' '22' '1998']\n",
      "['乙', '丑', '己', '亥', '丁', '未', '壬', '申']\n",
      "12\n",
      "28\n",
      "['John Legend' 'Male' '1978' 'Dec' '28' '1998']\n",
      "['乙', '丑', '甲', '子', '甲', '子', '戊', '午']\n",
      "1\n",
      "17\n",
      "['Jim Carrey' 'Male' '1962' 'Jan' '17' '1994']\n",
      "['丁', '丑', '乙', '卯', '辛', '丑', '辛', '丑']\n",
      "7\n",
      "24\n",
      "['Jennifer Lopez' 'Female' '1969' 'Jul' '24' '1986']\n",
      "['丁', '丑', '庚', '子', '辛', '未', '己', '酉']\n",
      "12\n",
      "28\n",
      "['Denzel Washington' 'Male' '1954' 'Dec' '28' '1991']\n",
      "['癸', '丑', '戊', '午', '丙', '子', '甲', '午']\n"
     ]
    }
   ],
   "source": [
    "for row in data:\n",
    "    gender=row[1]\n",
    "    month=row[3]\n",
    "    abbr_to_num = {name: num for num, name in enumerate(calendar.month_abbr) if num}\n",
    "    month=str(abbr_to_num[month])\n",
    "    print(str(month))\n",
    "    day=str(row[4])\n",
    "    print(day)\n",
    "    hr=\"1\"\n",
    "    year=str(row[2])\n",
    "    bazi=getBAZI(year,month,day,hr,gender)\n",
    "    print(row)\n",
    "    print(bazi)\n",
    "#     row=row+bazi\n",
    "    Allbazi.append(bazi)\n",
    "#     np.concatenate((row, bazi))\n",
    "    \n",
    "    \n",
    "    \n",
    "# year=\"1996\"\n",
    "# month=\"9\"\n",
    "# day=\"17\"\n",
    "# hr=\"3\"\n",
    "# gender=\"F\""
   ]
  },
  {
   "cell_type": "code",
   "execution_count": 223,
   "id": "eea2841b",
   "metadata": {},
   "outputs": [],
   "source": [
    "len(Allbazi)\n",
    "Allbazi[2]=bazi"
   ]
  },
  {
   "cell_type": "code",
   "execution_count": 224,
   "id": "f9bef6d8",
   "metadata": {},
   "outputs": [
    {
     "data": {
      "text/plain": [
       "[['己', '丑', '丙', '申', '丙', '午', '丁', '巳'],\n",
       " ['癸', '丑', '癸', '卯', '辛', '亥', '壬', '申'],\n",
       " ['乙', '丑', '己', '酉', '己', '丑', '庚', '申'],\n",
       " ['己', '丑', '辛', '巳', '辛', '巳', '乙', '卯'],\n",
       " ['辛', '丑', '丁', '巳', '丙', '寅', '己', '酉'],\n",
       " ['乙', '丑', '甲', '寅', '己', '亥', '辛', '酉'],\n",
       " ['辛', '丑', '丁', '未', '丙', '子', '己', '巳'],\n",
       " ['丁', '丑', '乙', '巳', '甲', '寅', '戊', '辰'],\n",
       " ['丁', '丑', '乙', '酉', '丙', '申', '辛', '酉'],\n",
       " ['丁', '丑', '庚', '戌', '庚', '辰', '庚', '午'],\n",
       " ['己', '丑', '丙', '辰', '乙', '亥', '甲', '寅'],\n",
       " ['癸', '丑', '戊', '戌', '辛', '酉', '戊', '申'],\n",
       " ['癸', '丑', '癸', '卯', '己', '丑', '庚', '申'],\n",
       " ['丁', '丑', '乙', '未', '甲', '子', '癸', '卯'],\n",
       " ['己', '丑', '辛', '酉', '癸', '巳', '辛', '亥'],\n",
       " ['乙', '丑', '己', '亥', '丁', '未', '壬', '申'],\n",
       " ['乙', '丑', '甲', '子', '甲', '子', '戊', '午'],\n",
       " ['丁', '丑', '乙', '卯', '辛', '丑', '辛', '丑'],\n",
       " ['丁', '丑', '庚', '子', '辛', '未', '己', '酉'],\n",
       " ['癸', '丑', '戊', '午', '丙', '子', '甲', '午']]"
      ]
     },
     "execution_count": 224,
     "metadata": {},
     "output_type": "execute_result"
    }
   ],
   "source": [
    "Allbazi"
   ]
  },
  {
   "cell_type": "code",
   "execution_count": 226,
   "id": "b09c28bd",
   "metadata": {},
   "outputs": [],
   "source": [
    "data=[['Kanye West', 'Male', '1977', 'Jun', '8', '1977'],\n",
    "       ['Miley Cyrus', 'Female', '1992', 'Nov', '23', '1996'],\n",
    "       ['Justin Timberlake', 'Male', '1981', 'Jan', '31', '1984'],\n",
    "       ['Angelina Jolie', 'Female', '1975', 'Jun', '4', '1978'],\n",
    "       ['Jennifer Aniston', 'Female', '1969', 'Feb', '11', '1996'],\n",
    "       ['Britney Spears', 'Female', '1981', 'Dec', '2', '1988'],\n",
    "       ['Taylor Swift', 'Female', '1989', 'Dec', '13', '1992'],\n",
    "       ['Rihanna', 'Female', '1988', 'Feb', '20', '2003'],\n",
    "       ['Beyonce', 'Female', '1981', 'Sep', '4', '2002'],\n",
    "       ['Emma Watson', 'Female', '1990', 'Apr', '15', '2004'],\n",
    "       ['Leonardo DiCaprio', 'Male', '1974', 'Nov', '11', '1993'],\n",
    "       ['Will Smith', 'Male', '1968', 'Sep', '25', '1996'],\n",
    "       ['Alicia Keys', 'Female', '1981', 'Jan', '25', '2002'],\n",
    "       ['Brad Pitt', 'Male', '1963', 'Dec', '18', '1967'],\n",
    "       ['Mark Wahlberg', 'Male', '1971', 'Jun', '5', '1982'],\n",
    "       ['Selena Gomez', 'Female', '1992', 'Jul', '22', '1998'],\n",
    "       ['John Legend', 'Male', '1978', 'Dec', '28', '1998'],\n",
    "       ['Jim Carrey', 'Male', '1962', 'Jan', '17', '1994'],\n",
    "       ['Jennifer Lopez', 'Female', '1969', 'Jul', '24', '1986'],\n",
    "       ['Denzel Washington', 'Male', '1954', 'Dec', '28', '1991']]"
   ]
  },
  {
   "cell_type": "code",
   "execution_count": 228,
   "id": "dd6c87f1",
   "metadata": {},
   "outputs": [
    {
     "data": {
      "text/html": [
       "<div>\n",
       "<style scoped>\n",
       "    .dataframe tbody tr th:only-of-type {\n",
       "        vertical-align: middle;\n",
       "    }\n",
       "\n",
       "    .dataframe tbody tr th {\n",
       "        vertical-align: top;\n",
       "    }\n",
       "\n",
       "    .dataframe thead th {\n",
       "        text-align: right;\n",
       "    }\n",
       "</style>\n",
       "<table border=\"1\" class=\"dataframe\">\n",
       "  <thead>\n",
       "    <tr style=\"text-align: right;\">\n",
       "      <th></th>\n",
       "      <th>Name</th>\n",
       "      <th>Gender</th>\n",
       "      <th>BirthyYear</th>\n",
       "      <th>Bmonth</th>\n",
       "      <th>Bday</th>\n",
       "      <th>FatherDeadY</th>\n",
       "      <th>時干</th>\n",
       "      <th>時支</th>\n",
       "      <th>日干</th>\n",
       "      <th>日支</th>\n",
       "      <th>月干</th>\n",
       "      <th>月支</th>\n",
       "      <th>年干</th>\n",
       "      <th>年支</th>\n",
       "    </tr>\n",
       "  </thead>\n",
       "  <tbody>\n",
       "    <tr>\n",
       "      <th>0</th>\n",
       "      <td>Kanye West</td>\n",
       "      <td>Male</td>\n",
       "      <td>1977</td>\n",
       "      <td>Jun</td>\n",
       "      <td>8</td>\n",
       "      <td>1977</td>\n",
       "      <td>己</td>\n",
       "      <td>丑</td>\n",
       "      <td>丙</td>\n",
       "      <td>申</td>\n",
       "      <td>丙</td>\n",
       "      <td>午</td>\n",
       "      <td>丁</td>\n",
       "      <td>巳</td>\n",
       "    </tr>\n",
       "    <tr>\n",
       "      <th>1</th>\n",
       "      <td>Miley Cyrus</td>\n",
       "      <td>Female</td>\n",
       "      <td>1992</td>\n",
       "      <td>Nov</td>\n",
       "      <td>23</td>\n",
       "      <td>1996</td>\n",
       "      <td>癸</td>\n",
       "      <td>丑</td>\n",
       "      <td>癸</td>\n",
       "      <td>卯</td>\n",
       "      <td>辛</td>\n",
       "      <td>亥</td>\n",
       "      <td>壬</td>\n",
       "      <td>申</td>\n",
       "    </tr>\n",
       "    <tr>\n",
       "      <th>2</th>\n",
       "      <td>Justin Timberlake</td>\n",
       "      <td>Male</td>\n",
       "      <td>1981</td>\n",
       "      <td>Jan</td>\n",
       "      <td>31</td>\n",
       "      <td>1984</td>\n",
       "      <td>乙</td>\n",
       "      <td>丑</td>\n",
       "      <td>己</td>\n",
       "      <td>酉</td>\n",
       "      <td>己</td>\n",
       "      <td>丑</td>\n",
       "      <td>庚</td>\n",
       "      <td>申</td>\n",
       "    </tr>\n",
       "    <tr>\n",
       "      <th>3</th>\n",
       "      <td>Angelina Jolie</td>\n",
       "      <td>Female</td>\n",
       "      <td>1975</td>\n",
       "      <td>Jun</td>\n",
       "      <td>4</td>\n",
       "      <td>1978</td>\n",
       "      <td>己</td>\n",
       "      <td>丑</td>\n",
       "      <td>辛</td>\n",
       "      <td>巳</td>\n",
       "      <td>辛</td>\n",
       "      <td>巳</td>\n",
       "      <td>乙</td>\n",
       "      <td>卯</td>\n",
       "    </tr>\n",
       "    <tr>\n",
       "      <th>4</th>\n",
       "      <td>Jennifer Aniston</td>\n",
       "      <td>Female</td>\n",
       "      <td>1969</td>\n",
       "      <td>Feb</td>\n",
       "      <td>11</td>\n",
       "      <td>1996</td>\n",
       "      <td>辛</td>\n",
       "      <td>丑</td>\n",
       "      <td>丁</td>\n",
       "      <td>巳</td>\n",
       "      <td>丙</td>\n",
       "      <td>寅</td>\n",
       "      <td>己</td>\n",
       "      <td>酉</td>\n",
       "    </tr>\n",
       "    <tr>\n",
       "      <th>5</th>\n",
       "      <td>Britney Spears</td>\n",
       "      <td>Female</td>\n",
       "      <td>1981</td>\n",
       "      <td>Dec</td>\n",
       "      <td>2</td>\n",
       "      <td>1988</td>\n",
       "      <td>乙</td>\n",
       "      <td>丑</td>\n",
       "      <td>甲</td>\n",
       "      <td>寅</td>\n",
       "      <td>己</td>\n",
       "      <td>亥</td>\n",
       "      <td>辛</td>\n",
       "      <td>酉</td>\n",
       "    </tr>\n",
       "    <tr>\n",
       "      <th>6</th>\n",
       "      <td>Taylor Swift</td>\n",
       "      <td>Female</td>\n",
       "      <td>1989</td>\n",
       "      <td>Dec</td>\n",
       "      <td>13</td>\n",
       "      <td>1992</td>\n",
       "      <td>辛</td>\n",
       "      <td>丑</td>\n",
       "      <td>丁</td>\n",
       "      <td>未</td>\n",
       "      <td>丙</td>\n",
       "      <td>子</td>\n",
       "      <td>己</td>\n",
       "      <td>巳</td>\n",
       "    </tr>\n",
       "    <tr>\n",
       "      <th>7</th>\n",
       "      <td>Rihanna</td>\n",
       "      <td>Female</td>\n",
       "      <td>1988</td>\n",
       "      <td>Feb</td>\n",
       "      <td>20</td>\n",
       "      <td>2003</td>\n",
       "      <td>丁</td>\n",
       "      <td>丑</td>\n",
       "      <td>乙</td>\n",
       "      <td>巳</td>\n",
       "      <td>甲</td>\n",
       "      <td>寅</td>\n",
       "      <td>戊</td>\n",
       "      <td>辰</td>\n",
       "    </tr>\n",
       "    <tr>\n",
       "      <th>8</th>\n",
       "      <td>Beyonce</td>\n",
       "      <td>Female</td>\n",
       "      <td>1981</td>\n",
       "      <td>Sep</td>\n",
       "      <td>4</td>\n",
       "      <td>2002</td>\n",
       "      <td>丁</td>\n",
       "      <td>丑</td>\n",
       "      <td>乙</td>\n",
       "      <td>酉</td>\n",
       "      <td>丙</td>\n",
       "      <td>申</td>\n",
       "      <td>辛</td>\n",
       "      <td>酉</td>\n",
       "    </tr>\n",
       "    <tr>\n",
       "      <th>9</th>\n",
       "      <td>Emma Watson</td>\n",
       "      <td>Female</td>\n",
       "      <td>1990</td>\n",
       "      <td>Apr</td>\n",
       "      <td>15</td>\n",
       "      <td>2004</td>\n",
       "      <td>丁</td>\n",
       "      <td>丑</td>\n",
       "      <td>庚</td>\n",
       "      <td>戌</td>\n",
       "      <td>庚</td>\n",
       "      <td>辰</td>\n",
       "      <td>庚</td>\n",
       "      <td>午</td>\n",
       "    </tr>\n",
       "    <tr>\n",
       "      <th>10</th>\n",
       "      <td>Leonardo DiCaprio</td>\n",
       "      <td>Male</td>\n",
       "      <td>1974</td>\n",
       "      <td>Nov</td>\n",
       "      <td>11</td>\n",
       "      <td>1993</td>\n",
       "      <td>己</td>\n",
       "      <td>丑</td>\n",
       "      <td>丙</td>\n",
       "      <td>辰</td>\n",
       "      <td>乙</td>\n",
       "      <td>亥</td>\n",
       "      <td>甲</td>\n",
       "      <td>寅</td>\n",
       "    </tr>\n",
       "    <tr>\n",
       "      <th>11</th>\n",
       "      <td>Will Smith</td>\n",
       "      <td>Male</td>\n",
       "      <td>1968</td>\n",
       "      <td>Sep</td>\n",
       "      <td>25</td>\n",
       "      <td>1996</td>\n",
       "      <td>癸</td>\n",
       "      <td>丑</td>\n",
       "      <td>戊</td>\n",
       "      <td>戌</td>\n",
       "      <td>辛</td>\n",
       "      <td>酉</td>\n",
       "      <td>戊</td>\n",
       "      <td>申</td>\n",
       "    </tr>\n",
       "    <tr>\n",
       "      <th>12</th>\n",
       "      <td>Alicia Keys</td>\n",
       "      <td>Female</td>\n",
       "      <td>1981</td>\n",
       "      <td>Jan</td>\n",
       "      <td>25</td>\n",
       "      <td>2002</td>\n",
       "      <td>癸</td>\n",
       "      <td>丑</td>\n",
       "      <td>癸</td>\n",
       "      <td>卯</td>\n",
       "      <td>己</td>\n",
       "      <td>丑</td>\n",
       "      <td>庚</td>\n",
       "      <td>申</td>\n",
       "    </tr>\n",
       "    <tr>\n",
       "      <th>13</th>\n",
       "      <td>Brad Pitt</td>\n",
       "      <td>Male</td>\n",
       "      <td>1963</td>\n",
       "      <td>Dec</td>\n",
       "      <td>18</td>\n",
       "      <td>1967</td>\n",
       "      <td>丁</td>\n",
       "      <td>丑</td>\n",
       "      <td>乙</td>\n",
       "      <td>未</td>\n",
       "      <td>甲</td>\n",
       "      <td>子</td>\n",
       "      <td>癸</td>\n",
       "      <td>卯</td>\n",
       "    </tr>\n",
       "    <tr>\n",
       "      <th>14</th>\n",
       "      <td>Mark Wahlberg</td>\n",
       "      <td>Male</td>\n",
       "      <td>1971</td>\n",
       "      <td>Jun</td>\n",
       "      <td>5</td>\n",
       "      <td>1982</td>\n",
       "      <td>己</td>\n",
       "      <td>丑</td>\n",
       "      <td>辛</td>\n",
       "      <td>酉</td>\n",
       "      <td>癸</td>\n",
       "      <td>巳</td>\n",
       "      <td>辛</td>\n",
       "      <td>亥</td>\n",
       "    </tr>\n",
       "    <tr>\n",
       "      <th>15</th>\n",
       "      <td>Selena Gomez</td>\n",
       "      <td>Female</td>\n",
       "      <td>1992</td>\n",
       "      <td>Jul</td>\n",
       "      <td>22</td>\n",
       "      <td>1998</td>\n",
       "      <td>乙</td>\n",
       "      <td>丑</td>\n",
       "      <td>己</td>\n",
       "      <td>亥</td>\n",
       "      <td>丁</td>\n",
       "      <td>未</td>\n",
       "      <td>壬</td>\n",
       "      <td>申</td>\n",
       "    </tr>\n",
       "    <tr>\n",
       "      <th>16</th>\n",
       "      <td>John Legend</td>\n",
       "      <td>Male</td>\n",
       "      <td>1978</td>\n",
       "      <td>Dec</td>\n",
       "      <td>28</td>\n",
       "      <td>1998</td>\n",
       "      <td>乙</td>\n",
       "      <td>丑</td>\n",
       "      <td>甲</td>\n",
       "      <td>子</td>\n",
       "      <td>甲</td>\n",
       "      <td>子</td>\n",
       "      <td>戊</td>\n",
       "      <td>午</td>\n",
       "    </tr>\n",
       "    <tr>\n",
       "      <th>17</th>\n",
       "      <td>Jim Carrey</td>\n",
       "      <td>Male</td>\n",
       "      <td>1962</td>\n",
       "      <td>Jan</td>\n",
       "      <td>17</td>\n",
       "      <td>1994</td>\n",
       "      <td>丁</td>\n",
       "      <td>丑</td>\n",
       "      <td>乙</td>\n",
       "      <td>卯</td>\n",
       "      <td>辛</td>\n",
       "      <td>丑</td>\n",
       "      <td>辛</td>\n",
       "      <td>丑</td>\n",
       "    </tr>\n",
       "    <tr>\n",
       "      <th>18</th>\n",
       "      <td>Jennifer Lopez</td>\n",
       "      <td>Female</td>\n",
       "      <td>1969</td>\n",
       "      <td>Jul</td>\n",
       "      <td>24</td>\n",
       "      <td>1986</td>\n",
       "      <td>丁</td>\n",
       "      <td>丑</td>\n",
       "      <td>庚</td>\n",
       "      <td>子</td>\n",
       "      <td>辛</td>\n",
       "      <td>未</td>\n",
       "      <td>己</td>\n",
       "      <td>酉</td>\n",
       "    </tr>\n",
       "    <tr>\n",
       "      <th>19</th>\n",
       "      <td>Denzel Washington</td>\n",
       "      <td>Male</td>\n",
       "      <td>1954</td>\n",
       "      <td>Dec</td>\n",
       "      <td>28</td>\n",
       "      <td>1991</td>\n",
       "      <td>癸</td>\n",
       "      <td>丑</td>\n",
       "      <td>戊</td>\n",
       "      <td>午</td>\n",
       "      <td>丙</td>\n",
       "      <td>子</td>\n",
       "      <td>甲</td>\n",
       "      <td>午</td>\n",
       "    </tr>\n",
       "  </tbody>\n",
       "</table>\n",
       "</div>"
      ],
      "text/plain": [
       "                 Name  Gender BirthyYear Bmonth Bday FatherDeadY 時干 時支 日干 日支  \\\n",
       "0          Kanye West    Male       1977    Jun    8        1977  己  丑  丙  申   \n",
       "1         Miley Cyrus  Female       1992    Nov   23        1996  癸  丑  癸  卯   \n",
       "2   Justin Timberlake    Male       1981    Jan   31        1984  乙  丑  己  酉   \n",
       "3      Angelina Jolie  Female       1975    Jun    4        1978  己  丑  辛  巳   \n",
       "4    Jennifer Aniston  Female       1969    Feb   11        1996  辛  丑  丁  巳   \n",
       "5      Britney Spears  Female       1981    Dec    2        1988  乙  丑  甲  寅   \n",
       "6        Taylor Swift  Female       1989    Dec   13        1992  辛  丑  丁  未   \n",
       "7             Rihanna  Female       1988    Feb   20        2003  丁  丑  乙  巳   \n",
       "8             Beyonce  Female       1981    Sep    4        2002  丁  丑  乙  酉   \n",
       "9         Emma Watson  Female       1990    Apr   15        2004  丁  丑  庚  戌   \n",
       "10  Leonardo DiCaprio    Male       1974    Nov   11        1993  己  丑  丙  辰   \n",
       "11         Will Smith    Male       1968    Sep   25        1996  癸  丑  戊  戌   \n",
       "12        Alicia Keys  Female       1981    Jan   25        2002  癸  丑  癸  卯   \n",
       "13          Brad Pitt    Male       1963    Dec   18        1967  丁  丑  乙  未   \n",
       "14      Mark Wahlberg    Male       1971    Jun    5        1982  己  丑  辛  酉   \n",
       "15       Selena Gomez  Female       1992    Jul   22        1998  乙  丑  己  亥   \n",
       "16        John Legend    Male       1978    Dec   28        1998  乙  丑  甲  子   \n",
       "17         Jim Carrey    Male       1962    Jan   17        1994  丁  丑  乙  卯   \n",
       "18     Jennifer Lopez  Female       1969    Jul   24        1986  丁  丑  庚  子   \n",
       "19  Denzel Washington    Male       1954    Dec   28        1991  癸  丑  戊  午   \n",
       "\n",
       "   月干 月支 年干 年支  \n",
       "0   丙  午  丁  巳  \n",
       "1   辛  亥  壬  申  \n",
       "2   己  丑  庚  申  \n",
       "3   辛  巳  乙  卯  \n",
       "4   丙  寅  己  酉  \n",
       "5   己  亥  辛  酉  \n",
       "6   丙  子  己  巳  \n",
       "7   甲  寅  戊  辰  \n",
       "8   丙  申  辛  酉  \n",
       "9   庚  辰  庚  午  \n",
       "10  乙  亥  甲  寅  \n",
       "11  辛  酉  戊  申  \n",
       "12  己  丑  庚  申  \n",
       "13  甲  子  癸  卯  \n",
       "14  癸  巳  辛  亥  \n",
       "15  丁  未  壬  申  \n",
       "16  甲  子  戊  午  \n",
       "17  辛  丑  辛  丑  \n",
       "18  辛  未  己  酉  \n",
       "19  丙  子  甲  午  "
      ]
     },
     "metadata": {},
     "output_type": "display_data"
    }
   ],
   "source": [
    "import pandas as pd\n",
    "# ['壬', '寅', '丁', '巳', '丁', '酉', '丙', '子']\n",
    "# [\"時干\",\"時支\",\"日干\",\"日支\",\"月干\",\"月支\",\"年干\",\"年支\"]\n",
    "df = pd.DataFrame(data,columns=['Name','Gender',\"BirthyYear\",\"Bmonth\",\"Bday\",\"FatherDeadY\"])\n",
    "dfbazi=pd.DataFrame(Allbazi,columns=[\"時干\",\"時支\",\"日干\",\"日支\",\"月干\",\"月支\",\"年干\",\"年支\"])\n",
    "result = pd.concat([df, dfbazi], axis=1, join='inner')\n",
    "display(result)"
   ]
  },
  {
   "cell_type": "code",
   "execution_count": 236,
   "id": "5788f501",
   "metadata": {},
   "outputs": [],
   "source": [
    "result.to_csv(r'birthdayDF.txt', header=True, index=None)"
   ]
  },
  {
   "cell_type": "code",
   "execution_count": 108,
   "id": "6e9c1770",
   "metadata": {},
   "outputs": [
    {
     "data": {
      "text/plain": [
       "0    1977\n",
       "1    1992\n",
       "2    1981\n",
       "Name: BirthyYear, dtype: object"
      ]
     },
     "execution_count": 108,
     "metadata": {},
     "output_type": "execute_result"
    }
   ],
   "source": [
    "df.iloc[0:3,2]"
   ]
  },
  {
   "cell_type": "code",
   "execution_count": null,
   "id": "b2a9473a",
   "metadata": {},
   "outputs": [],
   "source": [
    "bd=\"December 28, 1954\""
   ]
  },
  {
   "cell_type": "code",
   "execution_count": 90,
   "id": "f957d7ba",
   "metadata": {},
   "outputs": [
    {
     "data": {
      "text/plain": [
       "'1954'"
      ]
     },
     "execution_count": 90,
     "metadata": {},
     "output_type": "execute_result"
    }
   ],
   "source": [
    "month=bd[0:3]\n",
    "month\n",
    "\n",
    "start = bd.find(' ')\n",
    "end =bd.find(',')\n",
    "day=bd[start+1:end]\n",
    "\n",
    "start = bd.find(', ')\n",
    "yr=bd[start+2:]\n",
    "yr"
   ]
  },
  {
   "cell_type": "code",
   "execution_count": 89,
   "id": "3352f8f3",
   "metadata": {},
   "outputs": [
    {
     "data": {
      "text/plain": [
       "'28'"
      ]
     },
     "execution_count": 89,
     "metadata": {},
     "output_type": "execute_result"
    }
   ],
   "source": [
    "day"
   ]
  },
  {
   "cell_type": "code",
   "execution_count": 85,
   "id": "836f1b52",
   "metadata": {},
   "outputs": [
    {
     "data": {
      "text/plain": [
       "12"
      ]
     },
     "execution_count": 85,
     "metadata": {},
     "output_type": "execute_result"
    }
   ],
   "source": [
    "import calendar\n",
    "abbr_to_num = {name: num for num, name in enumerate(calendar.month_abbr) if num}\n",
    "abbr_to_num[month]"
   ]
  },
  {
   "cell_type": "code",
   "execution_count": 78,
   "id": "f374958e",
   "metadata": {},
   "outputs": [
    {
     "data": {
      "text/plain": [
       "'Feb'"
      ]
     },
     "execution_count": 78,
     "metadata": {},
     "output_type": "execute_result"
    }
   ],
   "source": [
    "calendar.month_abbr[2]"
   ]
  },
  {
   "cell_type": "code",
   "execution_count": null,
   "id": "c880b534",
   "metadata": {},
   "outputs": [],
   "source": [
    "/ask seperate the following data into different colume:\n",
    "    1. Kanye West (Male, b. June 8, 1977, Father died in 1977)"
   ]
  },
  {
   "cell_type": "code",
   "execution_count": 21,
   "id": "06131f59",
   "metadata": {},
   "outputs": [],
   "source": [
    "bazi=[]"
   ]
  },
  {
   "cell_type": "code",
   "execution_count": 23,
   "id": "21666e84",
   "metadata": {},
   "outputs": [
    {
     "name": "stdout",
     "output_type": "stream",
     "text": [
      "丙\n",
      "丁\n",
      "丁\n",
      "壬\n",
      "子\n",
      "酉\n",
      "巳\n",
      "寅\n"
     ]
    }
   ],
   "source": [
    "for i in returnv:\n",
    "    bazi.append(i.text)\n",
    "    print(i.text)"
   ]
  },
  {
   "cell_type": "code",
   "execution_count": 25,
   "id": "bcbf63e6",
   "metadata": {},
   "outputs": [
    {
     "name": "stdout",
     "output_type": "stream",
     "text": [
      "丙\n",
      "丁\n",
      "丁\n",
      "壬\n",
      "子\n",
      "酉\n",
      "巳\n",
      "寅\n"
     ]
    }
   ],
   "source": [
    "for i in bazi:\n",
    "    print(i)"
   ]
  },
  {
   "cell_type": "code",
   "execution_count": null,
   "id": "7bc1d893",
   "metadata": {},
   "outputs": [],
   "source": [
    "\"年干\",\"月干\",\"日干\",\"時干\",\"年支\",\"月支\",\"日支\",\"時支\""
   ]
  }
 ],
 "metadata": {
  "kernelspec": {
   "display_name": "Python 3",
   "language": "python",
   "name": "python3"
  },
  "language_info": {
   "codemirror_mode": {
    "name": "ipython",
    "version": 3
   },
   "file_extension": ".py",
   "mimetype": "text/x-python",
   "name": "python",
   "nbconvert_exporter": "python",
   "pygments_lexer": "ipython3",
   "version": "3.8.8"
  }
 },
 "nbformat": 4,
 "nbformat_minor": 5
}
